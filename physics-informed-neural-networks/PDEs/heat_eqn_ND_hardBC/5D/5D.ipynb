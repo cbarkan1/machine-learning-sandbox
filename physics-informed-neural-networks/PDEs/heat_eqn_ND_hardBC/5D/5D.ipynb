{
 "cells": [
  {
   "cell_type": "markdown",
   "id": "ddfc7ff1",
   "metadata": {},
   "source": [
    "## Heat equation in 5 dimensions\n",
    "\n",
    "Comparing PINN solution to exact solution."
   ]
  },
  {
   "cell_type": "code",
   "execution_count": 1,
   "id": "9599b197",
   "metadata": {},
   "outputs": [
    {
     "name": "stdout",
     "output_type": "stream",
     "text": [
      "\n",
      "t =  0.0\n",
      "Max diff ratio: 1.2954634428024292\n",
      "Mean diff ratio: 0.05728160962462425\n",
      "Median diff ratio: 4.529211672377187e-09\n",
      "\n",
      "t =  0.5\n",
      "Max diff ratio: 1.305808424949646\n",
      "Mean diff ratio: 0.060437850654125214\n",
      "Median diff ratio: 3.3104847751985744e-09\n",
      "\n",
      "t =  1.0\n",
      "Max diff ratio: 1.1719342470169067\n",
      "Mean diff ratio: 0.06301143020391464\n",
      "Median diff ratio: 7.633872201040504e-09\n"
     ]
    }
   ],
   "source": [
    "import torch\n",
    "from torch import sin as sin\n",
    "from model_architecture import PINN\n",
    "pi = 3.1415926535898\n",
    "\n",
    "\n",
    "def exact_solution(x_list, t):\n",
    "    return sin(pi*x_list[0])*sin(2*pi*x_list[1])*sin(pi*x_list[2])*sin(pi*x_list[3])*sin(pi*x_list[4])*torch.exp(-8*alpha*pi**2*t) \\\n",
    "        + sin(2*pi*x_list[0])*sin(pi*x_list[1])  *sin(2*pi*x_list[2])*sin(pi*x_list[3])*sin(pi*x_list[4])*torch.exp(-11*alpha*pi**2*t)\n",
    "\n",
    "alpha = 0.04  # Thermal diffusivity\n",
    "spatial_dim = 5\n",
    "\n",
    "# Load PINN model\n",
    "model = PINN(input_dim=spatial_dim+1)\n",
    "model.load_state_dict(torch.load('weights1_5D.pth'))\n",
    "\n",
    "model.eval()\n",
    "x1 = torch.linspace(0, 1, 10)\n",
    "x2 = torch.linspace(0, 1, 10)\n",
    "x3 = torch.linspace(0, 1, 10)\n",
    "x4 = torch.linspace(0, 1, 10)\n",
    "x5 = torch.linspace(0, 1, 10)\n",
    "times = torch.tensor([0.0, 0.5, 1.0])\n",
    "\n",
    "X1, X2, X3, X4, X5 = torch.meshgrid(x1, x2, x3, x4, x5, indexing='ij')\n",
    "\n",
    "for i, t in enumerate(times):\n",
    "    T = t * torch.ones_like(X1)\n",
    "    with torch.no_grad():\n",
    "        U = model([X1.reshape(-1, 1), X2.reshape(-1, 1), X3.reshape(-1, 1), X4.reshape(-1, 1), X5.reshape(-1, 1)], T.reshape(-1, 1)).reshape(X1.shape)\n",
    "\n",
    "    U_exact = exact_solution([X1, X2, X3, X4, X5], T)\n",
    "    \n",
    "    abs_diff = torch.abs(U - U_exact)\n",
    "    max_exact = torch.max(torch.abs(U_exact))\n",
    "    diff_ratio = abs_diff / max_exact\n",
    "\n",
    "    print('\\nt = ', t.item())\n",
    "    print('Max diff ratio:', torch.max(diff_ratio).item())\n",
    "    print('Mean diff ratio:', torch.mean(diff_ratio).item())\n",
    "    print('Median diff ratio:', torch.median(diff_ratio).item())"
   ]
  },
  {
   "cell_type": "code",
   "execution_count": null,
   "id": "eb2c8b8a",
   "metadata": {},
   "outputs": [],
   "source": []
  }
 ],
 "metadata": {
  "kernelspec": {
   "display_name": "Python 3 (ipykernel)",
   "language": "python",
   "name": "python3"
  },
  "language_info": {
   "codemirror_mode": {
    "name": "ipython",
    "version": 3
   },
   "file_extension": ".py",
   "mimetype": "text/x-python",
   "name": "python",
   "nbconvert_exporter": "python",
   "pygments_lexer": "ipython3",
   "version": "3.9.16"
  }
 },
 "nbformat": 4,
 "nbformat_minor": 5
}
