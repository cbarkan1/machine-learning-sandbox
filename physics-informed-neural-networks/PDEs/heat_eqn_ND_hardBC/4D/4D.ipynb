{
 "cells": [
  {
   "cell_type": "markdown",
   "id": "3987bb2b",
   "metadata": {},
   "source": [
    "## Heat equation in 4 dimensions\n",
    "\n",
    "Comparing PINN solution to exact solution."
   ]
  },
  {
   "cell_type": "code",
   "execution_count": 1,
   "id": "ceb90515",
   "metadata": {},
   "outputs": [
    {
     "name": "stdout",
     "output_type": "stream",
     "text": [
      "\n",
      "t =  0.0\n",
      "Max diff ratio: 0.03234994783997536\n",
      "Mean diff ratio: 0.00331218633800745\n",
      "Median diff ratio: 0.001189492759294808\n",
      "\n",
      "t =  0.5\n",
      "Max diff ratio: 0.026338251307606697\n",
      "Mean diff ratio: 0.0033109276555478573\n",
      "Median diff ratio: 0.0013967360137030482\n",
      "\n",
      "t =  1.0\n",
      "Max diff ratio: 0.16755978763103485\n",
      "Mean diff ratio: 0.01986769214272499\n",
      "Median diff ratio: 0.006597384810447693\n"
     ]
    }
   ],
   "source": [
    "import torch\n",
    "from model_architecture import PINN\n",
    "pi = 3.1415926535898\n",
    "\n",
    "\n",
    "def exact_solution(x_list, t):\n",
    "    return torch.sin(pi*x_list[0])*torch.sin(2*pi*x_list[1])*torch.sin(pi*x_list[2])*torch.sin(pi*x_list[3])*torch.exp(-7*alpha*pi**2*t)\n",
    "\n",
    "alpha = 0.05  # Thermal diffusivity\n",
    "spatial_dim = 4\n",
    "\n",
    "# Load PINN model\n",
    "model = PINN(input_dim=spatial_dim+1)\n",
    "model.load_state_dict(torch.load('weights1_4D.pth'))\n",
    "\n",
    "model.eval()\n",
    "x1 = torch.linspace(0, 1, 20)\n",
    "x2 = torch.linspace(0, 1, 20)\n",
    "x3 = torch.linspace(0, 1, 20)\n",
    "x4 = torch.linspace(0, 1, 20)\n",
    "times = torch.tensor([0.0, 0.5, 1.0])\n",
    "\n",
    "X1, X2, X3, X4 = torch.meshgrid(x1, x2, x3, x4, indexing='ij')\n",
    "\n",
    "for i, t in enumerate(times):\n",
    "    T = t * torch.ones_like(X1)\n",
    "    with torch.no_grad():\n",
    "        U = model([X1.reshape(-1, 1), X2.reshape(-1, 1), X3.reshape(-1, 1), X4.reshape(-1, 1)], T.reshape(-1, 1)).reshape(X1.shape)\n",
    "\n",
    "    U_exact = exact_solution([X1, X2, X3, X4], T)\n",
    "    \n",
    "    abs_diff = torch.abs(U - U_exact)\n",
    "    max_exact = torch.max(torch.abs(U_exact))\n",
    "    diff_ratio = abs_diff / max_exact\n",
    "\n",
    "    print('\\nt = ', t.item())\n",
    "    print('Max diff ratio:', torch.max(diff_ratio).item())\n",
    "    print('Mean diff ratio:', torch.mean(diff_ratio).item())\n",
    "    print('Median diff ratio:', torch.median(diff_ratio).item())"
   ]
  },
  {
   "cell_type": "code",
   "execution_count": null,
   "id": "bf62e911",
   "metadata": {},
   "outputs": [],
   "source": []
  }
 ],
 "metadata": {
  "kernelspec": {
   "display_name": "Python 3 (ipykernel)",
   "language": "python",
   "name": "python3"
  },
  "language_info": {
   "codemirror_mode": {
    "name": "ipython",
    "version": 3
   },
   "file_extension": ".py",
   "mimetype": "text/x-python",
   "name": "python",
   "nbconvert_exporter": "python",
   "pygments_lexer": "ipython3",
   "version": "3.9.16"
  }
 },
 "nbformat": 4,
 "nbformat_minor": 5
}
