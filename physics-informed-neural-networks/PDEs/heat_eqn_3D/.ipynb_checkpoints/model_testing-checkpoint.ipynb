{
 "cells": [
  {
   "cell_type": "markdown",
   "id": "db94b70c",
   "metadata": {},
   "source": [
    "## Heat equation in 3 dimensions\n",
    "\n",
    "Comparing PINN solution to exact solution."
   ]
  },
  {
   "cell_type": "code",
   "execution_count": 3,
   "id": "9d233588",
   "metadata": {},
   "outputs": [
    {
     "name": "stdout",
     "output_type": "stream",
     "text": [
      "\n",
      "t =  0.0\n",
      "Max diff ratio: 0.37795600295066833\n",
      "Mean diff ratio: 0.018062761053442955\n",
      "Median diff ratio: 0.011172499507665634\n",
      "\n",
      "t =  0.5\n",
      "Max diff ratio: 0.7512338161468506\n",
      "Mean diff ratio: 0.05723240226507187\n",
      "Median diff ratio: 0.026798848062753677\n",
      "\n",
      "t =  1.0\n",
      "Max diff ratio: 0.9547368884086609\n",
      "Mean diff ratio: 0.11297223716974258\n",
      "Median diff ratio: 0.07229387015104294\n"
     ]
    }
   ],
   "source": [
    "import torch\n",
    "from model_architecture import PINN\n",
    "pi = 3.1415926535898\n",
    "\n",
    "\n",
    "def exact_solution(x, y, z, t):\n",
    "    return torch.sin(pi*x) * torch.sin(2*pi*y) * torch.exp(-5*alpha*pi**2*t) \\\n",
    "        + torch.sin(pi*z) * torch.exp(-alpha*pi**2*t)\n",
    "\n",
    "alpha = 0.05  # Thermal diffusivity\n",
    "\n",
    "\n",
    "# Create the PINN model\n",
    "model = PINN()\n",
    "model.load_state_dict(torch.load('weights1.pth'))\n",
    "\n",
    "model.eval()\n",
    "x_eval = torch.linspace(0, 1, 50)\n",
    "y_eval = torch.linspace(0, 1, 50)\n",
    "z_eval = torch.linspace(0, 1, 50)\n",
    "t_eval = torch.tensor([0.0, 0.5, 1.0])\n",
    "\n",
    "X, Y, Z = torch.meshgrid(x_eval, y_eval, z_eval, indexing='ij')\n",
    "\n",
    "for i, t in enumerate(t_eval):\n",
    "    T = t * torch.ones_like(X)\n",
    "    with torch.no_grad():\n",
    "        U = model(X.reshape(-1, 1), Y.reshape(-1, 1), Z.reshape(-1, 1), T.reshape(-1, 1)).reshape(X.shape)\n",
    "\n",
    "    U_exact = exact_solution(X, Y, Z, T)\n",
    "    \n",
    "    abs_diff = torch.abs(U - U_exact)\n",
    "    max_exact = torch.max(torch.abs(U_exact))\n",
    "    diff_ratio = abs_diff / max_exact\n",
    "\n",
    "    print('\\nt = ', t.item())\n",
    "    print('Max diff ratio:', torch.max(diff_ratio).item())\n",
    "    print('Mean diff ratio:', torch.mean(diff_ratio).item())\n",
    "    print('Median diff ratio:', torch.median(diff_ratio).item())"
   ]
  },
  {
   "cell_type": "code",
   "execution_count": null,
   "id": "49a76a64",
   "metadata": {},
   "outputs": [],
   "source": []
  }
 ],
 "metadata": {
  "kernelspec": {
   "display_name": "Python 3 (ipykernel)",
   "language": "python",
   "name": "python3"
  },
  "language_info": {
   "codemirror_mode": {
    "name": "ipython",
    "version": 3
   },
   "file_extension": ".py",
   "mimetype": "text/x-python",
   "name": "python",
   "nbconvert_exporter": "python",
   "pygments_lexer": "ipython3",
   "version": "3.9.16"
  }
 },
 "nbformat": 4,
 "nbformat_minor": 5
}
