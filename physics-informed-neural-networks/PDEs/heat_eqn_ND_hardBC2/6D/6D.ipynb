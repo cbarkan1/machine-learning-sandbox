{
 "cells": [
  {
   "cell_type": "markdown",
   "id": "3987bb2b",
   "metadata": {},
   "source": [
    "## Heat equation in 6 dimensions\n",
    "\n",
    "Comparing PINN solution to exact solution."
   ]
  },
  {
   "cell_type": "code",
   "execution_count": 1,
   "id": "ceb90515",
   "metadata": {},
   "outputs": [
    {
     "name": "stdout",
     "output_type": "stream",
     "text": [
      "\n",
      "t =  0.0\n",
      "Max diff ratio: 0.16389310359954834\n",
      "Mean diff ratio: 0.006159435957670212\n",
      "Median diff ratio: 0.002676150528714061\n",
      "Max error fraction: 1127.565673828125\n",
      "Mean error fraction: 0.03719959408044815\n",
      "Median error fraction: 0.0010955481557175517\n",
      "\n",
      "t =  0.5\n",
      "Max diff ratio: 0.19495978951454163\n",
      "Mean diff ratio: 0.0088548818603158\n",
      "Median diff ratio: 0.003038776805624366\n",
      "Max error fraction: 935.6682739257812\n",
      "Mean error fraction: -0.0796205922961235\n",
      "Median error fraction: 0.0009255115292035043\n",
      "\n",
      "t =  1.0\n",
      "Max diff ratio: 0.2888866066932678\n",
      "Mean diff ratio: 0.02363947220146656\n",
      "Median diff ratio: 0.007730443961918354\n",
      "Max error fraction: 1959.2498779296875\n",
      "Mean error fraction: -0.4476333558559418\n",
      "Median error fraction: 0.0021253423765301704\n"
     ]
    }
   ],
   "source": [
    "import torch\n",
    "from model_architecture import PINN\n",
    "pi = 3.1415926535898\n",
    "\n",
    "\n",
    "def exact_solution(x_list, t):\n",
    "    return torch.sin(pi*x_list[0])*torch.sin(2*pi*x_list[1])*torch.sin(pi*x_list[2])*torch.sin(pi*x_list[3])*torch.sin(pi*x_list[4])*torch.sin(pi*x_list[5])*torch.exp(-9*alpha*pi**2*t)\n",
    "\n",
    "alpha = 0.035  # Thermal diffusivity\n",
    "spatial_dim = 6\n",
    "\n",
    "# Load PINN model\n",
    "model = PINN(input_dim=spatial_dim+1)\n",
    "model.load_state_dict(torch.load('weights1.pth'))\n",
    "\n",
    "model.eval()\n",
    "\n",
    "num_test_points = 100000\n",
    "test_points = [torch.rand(num_test_points,1) for i in range(spatial_dim)]\n",
    "\n",
    "times = torch.tensor([0.0, 0.5, 1.0])\n",
    "\n",
    "#X1, X2, X3, X4, X5, X6 = torch.meshgrid(x1, x2, x3, x4, x5, x6, indexing='ij')\n",
    "\n",
    "for i, t in enumerate(times):\n",
    "    T = t * torch.ones(num_test_points,1)\n",
    "    with torch.no_grad():\n",
    "        U = model(test_points, T)\n",
    "\n",
    "    U_exact = exact_solution(test_points, T)\n",
    "    \n",
    "    abs_diff = torch.abs(U - U_exact)\n",
    "    max_exact = torch.max(torch.abs(U_exact))\n",
    "    diff_ratio = abs_diff / max_exact\n",
    "    error_fraction = abs_diff / U_exact\n",
    "\n",
    "    print('\\nt = ', t.item())\n",
    "    print('Max diff ratio:', torch.max(diff_ratio).item())\n",
    "    print('Mean diff ratio:', torch.mean(diff_ratio).item())\n",
    "    print('Median diff ratio:', torch.median(diff_ratio).item())\n",
    "    print('Max error fraction:', torch.max(error_fraction).item())\n",
    "    print('Mean error fraction:', torch.mean(error_fraction).item())\n",
    "    print('Median error fraction:', torch.median(error_fraction).item())"
   ]
  },
  {
   "cell_type": "code",
   "execution_count": null,
   "id": "bf62e911",
   "metadata": {},
   "outputs": [],
   "source": []
  }
 ],
 "metadata": {
  "kernelspec": {
   "display_name": "Python 3 (ipykernel)",
   "language": "python",
   "name": "python3"
  },
  "language_info": {
   "codemirror_mode": {
    "name": "ipython",
    "version": 3
   },
   "file_extension": ".py",
   "mimetype": "text/x-python",
   "name": "python",
   "nbconvert_exporter": "python",
   "pygments_lexer": "ipython3",
   "version": "3.9.16"
  }
 },
 "nbformat": 4,
 "nbformat_minor": 5
}
