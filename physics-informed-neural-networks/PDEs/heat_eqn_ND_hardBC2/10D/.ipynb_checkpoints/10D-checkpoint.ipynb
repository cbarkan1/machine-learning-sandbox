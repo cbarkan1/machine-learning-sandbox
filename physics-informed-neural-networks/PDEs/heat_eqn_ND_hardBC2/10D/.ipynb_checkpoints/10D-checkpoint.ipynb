{
 "cells": [
  {
   "cell_type": "markdown",
   "id": "3987bb2b",
   "metadata": {},
   "source": [
    "## Heat equation in 10 dimensions\n",
    "\n",
    "Comparing PINN solution to exact solution."
   ]
  },
  {
   "cell_type": "code",
   "execution_count": 4,
   "id": "ceb90515",
   "metadata": {},
   "outputs": [
    {
     "name": "stdout",
     "output_type": "stream",
     "text": [
      "\n",
      "t =  0.0\n",
      "Max diff ratio: 0.24612067639827728\n",
      "Mean diff ratio: 0.0023458050563931465\n",
      "Median diff ratio: 0.000917474739253521\n",
      "Max error fraction: 773.7127685546875\n",
      "Mean error fraction: -0.01654972694814205\n",
      "Median error fraction: 0.004560462664812803\n",
      "\n",
      "t =  0.20000000298023224\n",
      "Max diff ratio: 0.26120492815971375\n",
      "Mean diff ratio: 0.0022107765544205904\n",
      "Median diff ratio: 0.0008729022229090333\n",
      "Max error fraction: 1103.3414306640625\n",
      "Mean error fraction: -0.010451272130012512\n",
      "Median error fraction: 0.003908711951225996\n",
      "\n",
      "t =  0.6000000238418579\n",
      "Max diff ratio: 0.2904714345932007\n",
      "Mean diff ratio: 0.002201191382482648\n",
      "Median diff ratio: 0.0008171153604052961\n",
      "Max error fraction: 2332.176513671875\n",
      "Mean error fraction: 0.021127836778759956\n",
      "Median error fraction: 0.003501653904095292\n"
     ]
    }
   ],
   "source": [
    "import torch\n",
    "from model_architecture import PINN\n",
    "pi = 3.1415926535898\n",
    "\n",
    "\n",
    "def exact_solution(x_list, t):\n",
    "    return torch.sin(pi*x_list[0])*torch.sin(2*pi*x_list[1])*torch.sin(pi*x_list[2])*torch.sin(pi*x_list[3]) \\\n",
    "          *torch.sin(pi*x_list[4])*torch.sin(pi*x_list[5])*torch.sin(pi*x_list[6])*torch.sin(pi*x_list[7]) \\\n",
    "          *torch.sin(pi*x_list[8])*torch.sin(pi*x_list[9])*torch.exp(-13*alpha*pi**2*t)\n",
    "\n",
    "alpha = 0.025  # Thermal diffusivity\n",
    "spatial_dim = 10\n",
    "\n",
    "# Load PINN model\n",
    "model = PINN(input_dim=spatial_dim+1,hidden_dim=128, num_layers=4)\n",
    "model.load_state_dict(torch.load('weights1.pth'))\n",
    "\n",
    "model.eval()\n",
    "\n",
    "num_test_points = 100000\n",
    "test_points = [torch.rand(num_test_points,1) for i in range(spatial_dim)]\n",
    "\n",
    "times = torch.tensor([0.0, 0.2, 0.6])\n",
    "\n",
    "for i, t in enumerate(times):\n",
    "    T = t * torch.ones(num_test_points,1)\n",
    "    with torch.no_grad():\n",
    "        U = model(test_points, T)\n",
    "\n",
    "    U_exact = exact_solution(test_points, T)\n",
    "    \n",
    "    abs_diff = torch.abs(U - U_exact)\n",
    "    max_exact = torch.max(torch.abs(U_exact))\n",
    "    diff_ratio = abs_diff / max_exact\n",
    "    error_fraction = abs_diff / U_exact\n",
    "\n",
    "    print('\\nt = ', t.item())\n",
    "    print('Max diff ratio:', torch.max(diff_ratio).item())\n",
    "    print('Mean diff ratio:', torch.mean(diff_ratio).item())\n",
    "    print('Median diff ratio:', torch.median(diff_ratio).item())\n",
    "    print('Max error fraction:', torch.max(error_fraction).item())\n",
    "    print('Mean error fraction:', torch.mean(error_fraction).item())\n",
    "    print('Median error fraction:', torch.median(error_fraction).item())"
   ]
  },
  {
   "cell_type": "code",
   "execution_count": null,
   "id": "bf62e911",
   "metadata": {},
   "outputs": [],
   "source": []
  }
 ],
 "metadata": {
  "kernelspec": {
   "display_name": "Python 3 (ipykernel)",
   "language": "python",
   "name": "python3"
  },
  "language_info": {
   "codemirror_mode": {
    "name": "ipython",
    "version": 3
   },
   "file_extension": ".py",
   "mimetype": "text/x-python",
   "name": "python",
   "nbconvert_exporter": "python",
   "pygments_lexer": "ipython3",
   "version": "3.9.16"
  }
 },
 "nbformat": 4,
 "nbformat_minor": 5
}
