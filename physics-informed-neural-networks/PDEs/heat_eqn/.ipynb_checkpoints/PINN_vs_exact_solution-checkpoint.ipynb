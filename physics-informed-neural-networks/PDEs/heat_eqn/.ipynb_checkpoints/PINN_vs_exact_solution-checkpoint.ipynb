{
 "cells": [
  {
   "cell_type": "code",
   "execution_count": null,
   "id": "e05aa033",
   "metadata": {},
   "outputs": [],
   "source": [
    "import numpy as np\n",
    "import torch\n",
    "from model_architecture import PINN\n",
    "import matplotlib.pyplot as plt\n",
    "\n",
    "# PDE parameters\n",
    "alpha = 0.1  # Thermal diffusivity\n",
    "x_range = (0, 1)\n",
    "t_range = (0, 1)\n",
    "\n",
    "# Loading model with trained weights\n",
    "model = PINN()\n",
    "model.load_state_dict(torch.load('heat_eqn_weights1.pth'))\n",
    "model.eval()"
   ]
  },
  {
   "cell_type": "code",
   "execution_count": null,
   "id": "86249d0f",
   "metadata": {},
   "outputs": [],
   "source": [
    "# Exact solution for initial condition u(x,0) = sin(pi*x) + 1 - x\n",
    "def u_exact(x, t):\n",
    "    return np.sin(np.pi*x) * np.exp(-t*alpha*np.pi**2) + 1 - x"
   ]
  }
 ],
 "metadata": {
  "kernelspec": {
   "display_name": "Python 3 (ipykernel)",
   "language": "python",
   "name": "python3"
  },
  "language_info": {
   "codemirror_mode": {
    "name": "ipython",
    "version": 3
   },
   "file_extension": ".py",
   "mimetype": "text/x-python",
   "name": "python",
   "nbconvert_exporter": "python",
   "pygments_lexer": "ipython3",
   "version": "3.9.16"
  }
 },
 "nbformat": 4,
 "nbformat_minor": 5
}
