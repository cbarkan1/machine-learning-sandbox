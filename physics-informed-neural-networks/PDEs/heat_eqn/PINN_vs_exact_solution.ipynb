{
 "cells": [
  {
   "cell_type": "markdown",
   "id": "a9619c5c",
   "metadata": {},
   "source": [
    "## Evaluating the PINNs solution to the heat equation PDE\n",
    "\n",
    "The PINN was trained with the following initial and boundary conditions:\n",
    "\n",
    "$u(x,0) = \\sin(\\pi x) + 1 - x$\n",
    "\n",
    "$u(0,t) = 1$\n",
    "\n",
    "$u(1,t) = 0$"
   ]
  },
  {
   "cell_type": "code",
   "execution_count": 1,
   "id": "93057c3c",
   "metadata": {},
   "outputs": [
    {
     "data": {
      "text/plain": [
       "PINN(\n",
       "  (net): Sequential(\n",
       "    (0): Linear(in_features=2, out_features=20, bias=True)\n",
       "    (1): Tanh()\n",
       "    (2): Linear(in_features=20, out_features=20, bias=True)\n",
       "    (3): Tanh()\n",
       "    (4): Linear(in_features=20, out_features=20, bias=True)\n",
       "    (5): Tanh()\n",
       "    (6): Linear(in_features=20, out_features=1, bias=True)\n",
       "  )\n",
       ")"
      ]
     },
     "execution_count": 1,
     "metadata": {},
     "output_type": "execute_result"
    }
   ],
   "source": [
    "import numpy as np\n",
    "import torch\n",
    "from model_architecture import PINN\n",
    "import matplotlib.pyplot as plt\n",
    "\n",
    "# PDE parameters\n",
    "alpha = 0.1  # Thermal diffusivity\n",
    "x_range = (0, 1)\n",
    "t_range = (0, 1)\n",
    "\n",
    "# Loading model with trained weights\n",
    "model = PINN()\n",
    "model.load_state_dict(torch.load('heat_eqn_weights1.pth'))\n",
    "model.eval()"
   ]
  },
  {
   "cell_type": "code",
   "execution_count": 2,
   "id": "bfb6dd0f",
   "metadata": {},
   "outputs": [],
   "source": [
    "# Exact solution\n",
    "def u_exact(x, t):\n",
    "    return np.sin(np.pi*x) * np.exp(-t*alpha*np.pi**2) + 1 - x"
   ]
  },
  {
   "cell_type": "code",
   "execution_count": 3,
   "id": "f188d6a0",
   "metadata": {},
   "outputs": [
    {
     "name": "stderr",
     "output_type": "stream",
     "text": [
      "/Users/caseybarkan/opt/anaconda3/lib/python3.9/site-packages/torch/functional.py:504: UserWarning: torch.meshgrid: in an upcoming release, it will be required to pass the indexing argument. (Triggered internally at /Users/runner/miniforge3/conda-bld/pytorch-recipe_1680607627222/work/aten/src/ATen/native/TensorShape.cpp:3484.)\n",
      "  return _VF.meshgrid(tensors, **kwargs)  # type: ignore[attr-defined]\n"
     ]
    }
   ],
   "source": [
    "# Computing model prediction\n",
    "xs = torch.linspace(x_range[0], x_range[1], 100)\n",
    "ts = torch.linspace(t_range[0], t_range[1], 100)\n",
    "x_mesh, t_mesh = torch.meshgrid(xs, ts)\n",
    "x_flat = x_mesh.reshape(-1, 1)\n",
    "t_flat = t_mesh.reshape(-1, 1)\n",
    "\n",
    "with torch.no_grad():\n",
    "    u_pred = model(x_flat, t_flat).reshape(x_mesh.shape)\n",
    "\n",
    "# Computing exact solution\n",
    "u_true = u_exact(x_mesh, t_mesh)"
   ]
  },
  {
   "cell_type": "code",
   "execution_count": null,
   "id": "94964328",
   "metadata": {},
   "outputs": [],
   "source": []
  }
 ],
 "metadata": {
  "kernelspec": {
   "display_name": "Python 3 (ipykernel)",
   "language": "python",
   "name": "python3"
  },
  "language_info": {
   "codemirror_mode": {
    "name": "ipython",
    "version": 3
   },
   "file_extension": ".py",
   "mimetype": "text/x-python",
   "name": "python",
   "nbconvert_exporter": "python",
   "pygments_lexer": "ipython3",
   "version": "3.9.16"
  }
 },
 "nbformat": 4,
 "nbformat_minor": 5
}
