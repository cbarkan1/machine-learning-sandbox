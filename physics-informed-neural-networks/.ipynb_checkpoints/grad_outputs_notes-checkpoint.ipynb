{
 "cells": [
  {
   "cell_type": "markdown",
   "id": "98504a2e",
   "metadata": {},
   "source": [
    "# What is `grad_outputs` in the `torch.autograd.grad` function?\n",
    "\n",
    "It is surprisingly difficult to find a precise definition of the kwarg `grad_outputs` in PyTorch's `autograd.grad` function. I've found many questions and discussions about `grad_outputs` on various online forums, but none have a clear mathematical explanation of what `grad_outputs` is and how it's used by `autograd.grad`. The purpose of these notes is to provide a clear mathematical explanation.\n",
    "\n",
    "Consider the following tensors:\n",
    "\n",
    "1. Tensor $X$ with components $X_{bq}$, where $b\\in\\{0,...,B-1\\}$ and $q\\in\\{0,...,Q-1\\}$.\n",
    "2. Tensor $Y=Y(X)$ with components $Y_{b'n}$, where $b'\\in\\{0,...,B'-1\\}$ and $n\\in\\{0,...,N-1\\}$. Often $B=B'$ (hence the same letter $B$), which occurs when the $B$ dimension is the batch dimension.\n",
    "3. Tensor $V$ with the same shape as $Y$, which will be the value of `grad_outputs`. Often, `V=torch.ones_like(Y)`.\n",
    "\n",
    "Let `res` be the tensor defined by the code: `res = torch.autograd.grad(Y,X,grad\\_outputs=v)[0]}`\n",
    "\n",
    "The components of `res` are given by\n",
    "\n",
    "$$\n",
    "\\texttt{res}_{bq} = \\sum_{b'=0}^{B'-1}\\sum_{n=0}^{N-1} V_{b'n} \\frac{\\partial Y_{b'n}}{\\partial X_{bq}}\n",
    "$$\n",
    "\n",
    "When dealing with batches, $B=B'$ and $Y_{bn}(X) = f_n(X_{b:})$. For PINNs, $f_n$ may be the model (which, for each batch $b$, takes the input $X_{b:}$), and $Y$ is the tensor containing the model's output for every batch. In this case,\n",
    "\n",
    "$$\n",
    "\\frac{\\partial Y_{b'n}}{\\partial X_{bq}} = \\delta_{b'b}\\frac{\\partial}{\\partial X_{bq}}f_n(X_{b:})\n",
    "$$\n",
    "\n",
    "Therefore,\n",
    "\n",
    "$$\n",
    "\\texttt{res}_{bq} = \\sum_{n=0}^{N-1} V_{bn} \\frac{\\partial}{\\partial X_{bq}}f_n(X_{b:})\n",
    "$$\n",
    "\n",
    "For a typical PINN, $f$ is a scalar-valued function (i.e. $N=1$) and `V=torch.ones_like(Y)`. Hence, in this case,\n",
    "\n",
    "$$\n",
    "\\texttt{res}_{bq} = \\frac{\\partial}{\\partial X_{bq}}f(X_{b:})\n",
    "$$\n",
    "\n",
    "which is what is needed for the ODE ($Q=1$) or PDE ($Q>1$) loss."
   ]
  },
  {
   "cell_type": "code",
   "execution_count": null,
   "id": "2472e173",
   "metadata": {},
   "outputs": [],
   "source": []
  }
 ],
 "metadata": {
  "kernelspec": {
   "display_name": "Python 3 (ipykernel)",
   "language": "python",
   "name": "python3"
  },
  "language_info": {
   "codemirror_mode": {
    "name": "ipython",
    "version": 3
   },
   "file_extension": ".py",
   "mimetype": "text/x-python",
   "name": "python",
   "nbconvert_exporter": "python",
   "pygments_lexer": "ipython3",
   "version": "3.9.16"
  }
 },
 "nbformat": 4,
 "nbformat_minor": 5
}
